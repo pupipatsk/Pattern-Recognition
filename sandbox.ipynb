{
 "cells": [
  {
   "cell_type": "code",
   "execution_count": 3,
   "metadata": {},
   "outputs": [
    {
     "name": "stdout",
     "output_type": "stream",
     "text": [
      "1.6666666666666667 1.5555555555555556\n"
     ]
    }
   ],
   "source": [
    "import numpy as np\n",
    "\n",
    "data_x = np.array([1, 3, 2, 8, 6, 7, -3, -2, -7])\n",
    "data_y = np.array([2, 3, 2, 8, 6, 7, -3, -4, -7])\n",
    "data_points = list(zip(data_x, data_y))\n",
    "\n",
    "new_centroid_x, new_centroid_y = np.mean(data_points, axis=0)\n",
    "print(new_centroid_x, new_centroid_y)"
   ]
  },
  {
   "cell_type": "code",
   "execution_count": 6,
   "metadata": {},
   "outputs": [
    {
     "data": {
      "text/plain": [
       "[0.9468512352230919,\n",
       " 0.4701997438702268,\n",
       " 0.17830371480113427,\n",
       " 0.708454018955906]"
      ]
     },
     "execution_count": 6,
     "metadata": {},
     "output_type": "execute_result"
    }
   ],
   "source": [
    "list(np.random.rand(4))"
   ]
  },
  {
   "cell_type": "code",
   "execution_count": 9,
   "metadata": {},
   "outputs": [
    {
     "data": {
      "text/plain": [
       "[(-1.3818982172895629, 7.260714596148743),\n",
       " (3.9799091271710765, 1.979877262955549),\n",
       " (-4.659720393363452, -4.66008219495696),\n",
       " (-6.128745817477008, 5.992642186624028)]"
      ]
     },
     "execution_count": 9,
     "metadata": {},
     "output_type": "execute_result"
    }
   ],
   "source": [
    "dataToRandom = np.array([[1, 2], [3, 3], [2, 2], [8, 8], [6, 6], [7, 7], [-3, -3], [-2, -4], [-7, -7]])\n",
    "\n",
    "# Specify the number of clusters (k)\n",
    "k = 4\n",
    "\n",
    "# Randomly initialize k centroids\n",
    "np.random.seed(42)  # For reproducibility\n",
    "init_centroids = np.random.rand(k, 2) * (np.max(dataToRandom, axis=0) - np.min(dataToRandom, axis=0)) + np.min(dataToRandom, axis=0)\n",
    "init_centroids = [tuple(coord) for coord in init_centroids]\n",
    "init_centroids"
   ]
  }
 ],
 "metadata": {
  "kernelspec": {
   "display_name": "datascience",
   "language": "python",
   "name": "python3"
  },
  "language_info": {
   "codemirror_mode": {
    "name": "ipython",
    "version": 3
   },
   "file_extension": ".py",
   "mimetype": "text/x-python",
   "name": "python",
   "nbconvert_exporter": "python",
   "pygments_lexer": "ipython3",
   "version": "3.9.18"
  }
 },
 "nbformat": 4,
 "nbformat_minor": 2
}
