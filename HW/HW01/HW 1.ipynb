{
 "cells": [
  {
   "cell_type": "markdown",
   "metadata": {},
   "source": [
    "$$Pupipat Singkhorn$$"
   ]
  },
  {
   "cell_type": "markdown",
   "metadata": {},
   "source": [
    "# Homework 1 Clustering and Regression"
   ]
  },
  {
   "cell_type": "markdown",
   "metadata": {},
   "source": [
    "## Metrics"
   ]
  },
  {
   "cell_type": "markdown",
   "metadata": {},
   "source": [
    "| Model A | Predicted dog | Predicted cat |\n",
    "| ----------- | :-: | :-: |\n",
    "| **Actual dog** | 30 | 20 | \n",
    "| **Actual cat** | 10 | 40 |"
   ]
  },
  {
   "cell_type": "markdown",
   "metadata": {},
   "source": [
    "### T1.\n",
    "What is the accuracy of Model A?"
   ]
  },
  {
   "cell_type": "code",
   "execution_count": 1,
   "metadata": {},
   "outputs": [
    {
     "name": "stdout",
     "output_type": "stream",
     "text": [
      " Accuracy = 0.7 \n"
     ]
    }
   ],
   "source": [
    "tn = 30\n",
    "fn = 10\n",
    "fp = 20\n",
    "tp = 40\n",
    "\n",
    "accuracy = ( tp+tn ) / ( tp+tn+fp+fn )\n",
    "\n",
    "print(f' Accuracy = {accuracy} ')"
   ]
  },
  {
   "cell_type": "markdown",
   "metadata": {},
   "source": [
    "### T2.\n",
    "Consider cats as ‘class 1’ (positive) and dogs as ‘class 0’ (negative),\n",
    "calculate the precision, recall, and F1."
   ]
  },
  {
   "cell_type": "markdown",
   "metadata": {},
   "source": [
    "| Model A | Predicted dog (-) | Predicted cat (+) |\n",
    "| ----------- | :-: | :-: |\n",
    "| **Actual dog** | TN | FP | \n",
    "| **Actual cat** | FN | TP |"
   ]
  },
  {
   "cell_type": "code",
   "execution_count": 2,
   "metadata": {},
   "outputs": [
    {
     "name": "stdout",
     "output_type": "stream",
     "text": [
      " Accuracy = 0.7 \n"
     ]
    }
   ],
   "source": [
    "accuracy = ( tp+tn ) / ( tp+tn+fp+fn )\n",
    "print(f' Accuracy = {accuracy} ')"
   ]
  },
  {
   "cell_type": "code",
   "execution_count": 3,
   "metadata": {},
   "outputs": [
    {
     "name": "stdout",
     "output_type": "stream",
     "text": [
      " Precision = 0.6666666666666666 \n",
      " Recall = 0.8 \n",
      " F1 = 0.7272727272727273 \n"
     ]
    }
   ],
   "source": [
    "tn = 30\n",
    "fn = 10\n",
    "fp = 20\n",
    "tp = 40\n",
    "\n",
    "precision = tp / (tp+fp)\n",
    "recall = tp / (tp+fn)\n",
    "F1 = 2*tp / ( 2*tp + fp + fn )\n",
    "\n",
    "print(f' Precision = {precision} ')\n",
    "print(f' Recall = {recall} ')\n",
    "print(f' F1 = {F1} ')"
   ]
  },
  {
   "cell_type": "markdown",
   "metadata": {},
   "source": [
    "### T3.\n",
    "Consider class cat as ‘class 0’ and class dog as ‘class 1’, calculate the precision, recall, and F1."
   ]
  },
  {
   "cell_type": "markdown",
   "metadata": {},
   "source": [
    "| Model A | Predicted dog (+) | Predicted cat (-) |\n",
    "| ----------- | :-: | :-: |\n",
    "| **Actual dog** | TP | FN | \n",
    "| **Actual cat** | FP | TN |"
   ]
  },
  {
   "cell_type": "code",
   "execution_count": 4,
   "metadata": {},
   "outputs": [
    {
     "name": "stdout",
     "output_type": "stream",
     "text": [
      " Accuracy = 0.7 \n"
     ]
    }
   ],
   "source": [
    "accuracy = ( tp+tn ) / ( tp+tn+fp+fn )\n",
    "\n",
    "print(f' Accuracy = {accuracy} ')"
   ]
  },
  {
   "cell_type": "code",
   "execution_count": 5,
   "metadata": {},
   "outputs": [
    {
     "name": "stdout",
     "output_type": "stream",
     "text": [
      " Precision = 0.75 \n",
      " Recall = 0.6 \n",
      " F1 = 0.6666666666666666 \n"
     ]
    }
   ],
   "source": [
    "tp = 30\n",
    "tn = 40\n",
    "fp = 10\n",
    "fn = 20\n",
    "\n",
    "precision = tp / (tp+fp)\n",
    "recall = tp / (tp+fn)\n",
    "F1 = 2*tp / ( 2*tp + fp + fn )\n",
    "\n",
    "print(f' Precision = {precision} ')\n",
    "print(f' Recall = {recall} ')\n",
    "print(f' F1 = {F1} ')"
   ]
  },
  {
   "cell_type": "markdown",
   "metadata": {},
   "source": [
    "### T4.\n",
    "Now consider a lopsided population where there are 80% cats.\\\n",
    "What is the accuracy of Model A?\\\n",
    "Using dog as the positive class, what is the precision, recall, and F1?\\\n",
    "Explain how and why these numbers change (or does not change) from the previous questions."
   ]
  },
  {
   "cell_type": "markdown",
   "metadata": {},
   "source": [
    "| Model A | Predicted dog (+) | Predicted cat (-) |\n",
    "| ----------- | :-: | :-: |\n",
    "| **Actual dog** | TP | FN | \n",
    "| **Actual cat** | FP | TN |"
   ]
  },
  {
   "cell_type": "markdown",
   "metadata": {},
   "source": [
    "| Model A | Predicted dog | Predicted cat |\n",
    "| ----------- | :-: | :-: |\n",
    "| **Actual dog** | 30 | 20 | \n",
    "| **Actual cat** | 10 | 40 |"
   ]
  },
  {
   "cell_type": "markdown",
   "metadata": {},
   "source": [
    "when 80% cats,\n",
    "Actual cat = 80\n",
    "Actual dog = 20\n",
    "\n",
    "Actual dog TP = 30 but from new constrain Actual dog(TP+FN) must not exceed 20\\\n",
    "then, **TP will decrease**"
   ]
  },
  {
   "cell_type": "markdown",
   "metadata": {},
   "source": [
    "From T2, T3 acccuracy does not change even data changes.\\\n",
    "$Accuracy = 0.7$"
   ]
  },
  {
   "cell_type": "markdown",
   "metadata": {},
   "source": [
    "$$ tp+tn+fp+fn = 100 $$\n",
    "$$ fp + tn = 80 $$\n",
    "$$ 0.7 = \\frac{tp+tn}{tp+tn+fp+fn} $$"
   ]
  },
  {
   "cell_type": "markdown",
   "metadata": {},
   "source": [
    "solve three eq. in form of *tp*"
   ]
  },
  {
   "cell_type": "markdown",
   "metadata": {},
   "source": [
    "$$ \\therefore tn = 70 - tp $$\n",
    "$$ \\therefore fp = tp + 10 $$\n",
    "$$ \\therefore fn = 20 - tp $$"
   ]
  },
  {
   "cell_type": "markdown",
   "metadata": {},
   "source": [
    "$$\n",
    "precision = \\frac{tp}{tp+fp}\n",
    "= \\frac{tp}{2tp+10}\n",
    "= \\frac{1}{2 + 10/tp}\n",
    "$$\n",
    "\n",
    "when *tp* decrease, **precision will decrease**"
   ]
  },
  {
   "cell_type": "markdown",
   "metadata": {},
   "source": [
    "$$\n",
    "recall = \\frac{tp}{tp+fn}\n",
    "= \\frac{tp}{20}\n",
    "$$\n",
    "\n",
    "when *tp* decrease, **recall will decrease**"
   ]
  },
  {
   "cell_type": "markdown",
   "metadata": {},
   "source": [
    "$$\n",
    "F1 = \\frac{2} {1/recall + 1/precision}\n",
    "$$\n",
    "\n",
    "when *recall* and *precision* decrease, **F1 will decrease**"
   ]
  },
  {
   "cell_type": "markdown",
   "metadata": {},
   "source": [
    "### OT1.\n",
    "Consider the equations for accuracy and F1.\n",
    "When will accuracy be equal, greater, or less than F1?"
   ]
  },
  {
   "cell_type": "markdown",
   "metadata": {},
   "source": [
    "$$\n",
    "Accuracy = \\frac{tp+tn} {tp+tn+fp+fn}\n",
    "= \\frac{1} {1+\\frac{fp+fn} {tp+\\textbf{tn}}}\n",
    "$$"
   ]
  },
  {
   "cell_type": "markdown",
   "metadata": {},
   "source": [
    "$$\n",
    "F1 = \\frac{2tp} {2tp+fp+fn}\n",
    "= \\frac{1} {1+\\frac{fp+fn} {tp+\\textbf{tp}}}\n",
    "$$"
   ]
  },
  {
   "cell_type": "markdown",
   "metadata": {},
   "source": [
    "$$ \\therefore Accuracy = F1   ; tn = tp $$\n",
    "$$ \\therefore Accuracy > F1   ; tn > tp $$\n",
    "$$ \\therefore Accuracy < F1   ; tn < tp $$"
   ]
  },
  {
   "cell_type": "markdown",
   "metadata": {},
   "source": [
    "## Clustering"
   ]
  },
  {
   "cell_type": "markdown",
   "metadata": {},
   "source": [
    "## Titanic : My heart will go on"
   ]
  }
 ],
 "metadata": {
  "kernelspec": {
   "display_name": "datascience",
   "language": "python",
   "name": "python3"
  },
  "language_info": {
   "codemirror_mode": {
    "name": "ipython",
    "version": 3
   },
   "file_extension": ".py",
   "mimetype": "text/x-python",
   "name": "python",
   "nbconvert_exporter": "python",
   "pygments_lexer": "ipython3",
   "version": "3.9.18"
  }
 },
 "nbformat": 4,
 "nbformat_minor": 2
}
